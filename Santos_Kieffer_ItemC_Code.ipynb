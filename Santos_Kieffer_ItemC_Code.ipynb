{
 "cells": [
  {
   "cell_type": "code",
   "execution_count": 1,
   "metadata": {},
   "outputs": [
    {
     "name": "stdout",
     "output_type": "stream",
     "text": [
      "Minimum point (x, y): (3.0000000000000013, -2.0000000000000004)\n",
      "Minimum function value: -13.0\n"
     ]
    }
   ],
   "source": [
    "def calculate_function_value(x, y):\n",
    "    \"\"\"\n",
    "    Calculate the value of the function f(x, y) = x^2 + y^2 - 6x + 4y.\n",
    "\n",
    "    Parameters:\n",
    "    x (float): The x-coordinate.\n",
    "    y (float): The y-coordinate.\n",
    "\n",
    "    Returns:\n",
    "    float: The value of the function at the given coordinates (x, y).\n",
    "    \"\"\"\n",
    "    return x**2 + y**2 - 6*x + 4*y\n",
    "\n",
    "def hill_climbing_optimization(starting_point, step_size, max_iterations):\n",
    "    \"\"\"\n",
    "    Perform hill climbing optimization to find the minimum of the given function.\n",
    "\n",
    "    Parameters:\n",
    "    starting_point (tuple): The starting point for optimization as (x, y).\n",
    "    step_size (float): The step size for each iteration.\n",
    "    max_iterations (int): The maximum number of iterations.\n",
    "\n",
    "    Returns:\n",
    "    tuple: A tuple containing the coordinates (x, y) of the minimum point and the minimum function value found.\n",
    "    \"\"\"\n",
    "    current_point = starting_point\n",
    "    current_value = calculate_function_value(*current_point)\n",
    "\n",
    "    for _ in range(max_iterations):\n",
    "        x, y = current_point\n",
    "        neighbors = [(x + step_size, y), (x - step_size, y), (x, y + step_size), (x, y - step_size)]\n",
    "        neighbor_values = [calculate_function_value(*neighbor) for neighbor in neighbors]\n",
    "        min_neighbor_value = min(neighbor_values)\n",
    "\n",
    "        if min_neighbor_value < current_value:\n",
    "            current_value = min_neighbor_value\n",
    "            current_point = neighbors[neighbor_values.index(min_neighbor_value)]\n",
    "\n",
    "    return current_point, current_value\n",
    "\n",
    "# Example usage\n",
    "if __name__ == \"__main__\":\n",
    "    starting_point = (0.0, 0.0)  # Initial starting point\n",
    "    step_size = 0.1  # Step size for each iteration\n",
    "    max_iterations = 1000  # Maximum number of iterations\n",
    "\n",
    "    min_point, min_value = hill_climbing_optimization(starting_point, step_size, max_iterations)\n",
    "\n",
    "    print(\"Minimum point (x, y):\", min_point)\n",
    "    print(\"Minimum function value:\", min_value)\n"
   ]
  }
 ],
 "metadata": {
  "kernelspec": {
   "display_name": "Python 3",
   "language": "python",
   "name": "python3"
  },
  "language_info": {
   "codemirror_mode": {
    "name": "ipython",
    "version": 3
   },
   "file_extension": ".py",
   "mimetype": "text/x-python",
   "name": "python",
   "nbconvert_exporter": "python",
   "pygments_lexer": "ipython3",
   "version": "3.11.6"
  }
 },
 "nbformat": 4,
 "nbformat_minor": 2
}
