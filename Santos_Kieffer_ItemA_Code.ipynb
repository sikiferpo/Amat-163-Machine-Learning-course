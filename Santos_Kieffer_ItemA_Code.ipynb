{
 "cells": [
  {
   "cell_type": "code",
   "execution_count": 1,
   "metadata": {},
   "outputs": [],
   "source": [
    "import sys\n",
    "\n",
    "def tsp(graph, start):\n",
    "    num_cities = len(graph)\n",
    "    all_vertices = set(range(num_cities))\n",
    "    memoization_table = [[float('inf')] * num_cities for _ in range(1 << num_cities)]\n",
    "    memoization_table[1][start] = 0\n",
    "\n",
    "    for mask in range(1 << num_cities):\n",
    "        for u in range(num_cities):\n",
    "            if mask & (1 << u):\n",
    "                for v in range(num_cities):\n",
    "                    if mask & (1 << v) and u != v:\n",
    "                        memoization_table[mask][v] = min(\n",
    "                            memoization_table[mask][v],\n",
    "                            memoization_table[mask ^ (1 << v)][u] + graph[u][v]\n",
    "                        )\n",
    "\n",
    "    min_cost = float('inf')\n",
    "    end_mask = (1 << num_cities) - 1\n",
    "    for v in range(num_cities):\n",
    "        if v != start:\n",
    "            min_cost = min(min_cost, memoization_table[end_mask][v] + graph[v][start])\n",
    "\n",
    "    return min_cost"
   ]
  },
  {
   "cell_type": "code",
   "execution_count": 2,
   "metadata": {},
   "outputs": [
    {
     "name": "stdout",
     "output_type": "stream",
     "text": [
      "The minimum cost of the TSP: 4223\n"
     ]
    }
   ],
   "source": [
    "graph = [\n",
    "    [0, 1559, 921, 1334],\n",
    "    [1559, 0, 809, 1397],\n",
    "    [921, 809, 0, 521],\n",
    "    [1334, 1397, 521, 0]\n",
    "]\n",
    "\n",
    "start_city = 0  # Starting city\n",
    "\n",
    "min_cost = tsp(graph, start_city)\n",
    "print(f\"The minimum cost of the TSP: {min_cost}\")"
   ]
  }
 ],
 "metadata": {
  "kernelspec": {
   "display_name": "Python 3",
   "language": "python",
   "name": "python3"
  },
  "language_info": {
   "codemirror_mode": {
    "name": "ipython",
    "version": 3
   },
   "file_extension": ".py",
   "mimetype": "text/x-python",
   "name": "python",
   "nbconvert_exporter": "python",
   "pygments_lexer": "ipython3",
   "version": "3.11.6"
  }
 },
 "nbformat": 4,
 "nbformat_minor": 2
}
