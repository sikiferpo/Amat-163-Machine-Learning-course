{
 "cells": [
  {
   "cell_type": "code",
   "execution_count": 1,
   "metadata": {},
   "outputs": [
    {
     "name": "stdout",
     "output_type": "stream",
     "text": [
      "Best Solution: [3, -2, 1]\n",
      "Best Value: -14\n"
     ]
    }
   ],
   "source": [
    "import random\n",
    "import numpy as np\n",
    "\n",
    "# Objective function\n",
    "def objective_function(x, y, z):\n",
    "    \"\"\"Calculate the objective function value.\"\"\"\n",
    "    return x**2 + y**2 + z**2 - 6*x + 4*y - 2*z\n",
    "\n",
    "# Harmony Search Algorithm\n",
    "def harmony_search(iterations, harmony_memory_size, pitch_adjust_rate, bandwidth, search_space):\n",
    "    \"\"\"\n",
    "    Harmony Search Algorithm for unconstrained nonlinear optimization.\n",
    "\n",
    "    Parameters:\n",
    "    - iterations: Number of iterations.\n",
    "    - harmony_memory_size: Size of the harmony memory.\n",
    "    - pitch_adjust_rate: Probability of adjusting pitch.\n",
    "    - bandwidth: Pitch adjustment bandwidth.\n",
    "    - search_space: Tuple defining the search space limits.\n",
    "\n",
    "    Returns:\n",
    "    - best_solution: Best solution found.\n",
    "    - best_value: Objective function value corresponding to the best solution.\n",
    "    \"\"\"\n",
    "    # Initialize harmony memory\n",
    "    harmony_memory = []\n",
    "    for _ in range(harmony_memory_size):\n",
    "        solution = [random.randint(search_space[0], search_space[1]) for _ in range(3)]\n",
    "        harmony_memory.append(solution)\n",
    "\n",
    "    # Main loop\n",
    "    for _ in range(iterations):\n",
    "        # Generate a new harmony\n",
    "        new_harmony = []\n",
    "        for i in range(3):\n",
    "            if random.uniform(0, 1) < pitch_adjust_rate:\n",
    "                new_harmony.append(random.randint(search_space[0], search_space[1]))\n",
    "            else:\n",
    "                random_index = random.randint(0, harmony_memory_size - 1)\n",
    "                # Ensure the new harmony is an integer\n",
    "                new_value = int(harmony_memory[random_index][i] + random.uniform(-bandwidth, bandwidth))\n",
    "                new_harmony.append(np.clip(new_value, search_space[0], search_space[1]))\n",
    "\n",
    "        # Update harmony memory\n",
    "        new_harmony_value = objective_function(*new_harmony)\n",
    "        worst_index = np.argmax([objective_function(*h) for h in harmony_memory])\n",
    "        if new_harmony_value < objective_function(*harmony_memory[worst_index]):\n",
    "            harmony_memory[worst_index] = new_harmony\n",
    "\n",
    "    # Return the best solution found\n",
    "    best_solution = min(harmony_memory, key=lambda x: objective_function(*x))\n",
    "    return best_solution, objective_function(*best_solution)\n",
    "\n",
    "# Parameters\n",
    "iterations = 1000\n",
    "harmony_memory_size = 20\n",
    "pitch_adjust_rate = 0.5\n",
    "bandwidth = 1.0\n",
    "search_space = (-10, 10)\n",
    "\n",
    "# Run Harmony Search Algorithm\n",
    "best_solution, best_value = harmony_search(iterations, harmony_memory_size, pitch_adjust_rate, bandwidth, search_space)\n",
    "\n",
    "# Display the result\n",
    "print(\"Best Solution:\", best_solution)\n",
    "print(\"Best Value:\", best_value)\n"
   ]
  }
 ],
 "metadata": {
  "kernelspec": {
   "display_name": "Python 3",
   "language": "python",
   "name": "python3"
  },
  "language_info": {
   "codemirror_mode": {
    "name": "ipython",
    "version": 3
   },
   "file_extension": ".py",
   "mimetype": "text/x-python",
   "name": "python",
   "nbconvert_exporter": "python",
   "pygments_lexer": "ipython3",
   "version": "3.11.6"
  }
 },
 "nbformat": 4,
 "nbformat_minor": 2
}
