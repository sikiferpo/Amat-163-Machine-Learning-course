{
 "cells": [
  {
   "cell_type": "code",
   "execution_count": null,
   "metadata": {},
   "outputs": [],
   "source": [
    "import random\n",
    "import math"
   ]
  },
  {
   "cell_type": "code",
   "execution_count": null,
   "metadata": {},
   "outputs": [],
   "source": [
    "def calculate_total_distance(tour, distance_matrix):\n",
    "    \"\"\"\n",
    "    Calculate the total distance of a given tour.\n",
    "\n",
    "    Args:\n",
    "    tour (list): A list representing the order of cities to visit.\n",
    "    distance_matrix (list): A 2D matrix containing distances between cities.\n",
    "\n",
    "    Returns:\n",
    "    int: Total distance traveled in the tour.\n",
    "    \"\"\"\n",
    "    total_distance = 0\n",
    "    num_cities = len(tour)\n",
    "    for i in range(num_cities):\n",
    "        total_distance += distance_matrix[tour[i]][tour[(i + 1) % num_cities]]\n",
    "    # Add the distance from the last city back to the starting city\n",
    "    total_distance += distance_matrix[tour[-1]][tour[0]]\n",
    "    return total_distance"
   ]
  },
  {
   "cell_type": "code",
   "execution_count": null,
   "metadata": {},
   "outputs": [],
   "source": [
    "def simulated_annealing(tour, distance_matrix, initial_temperature, cooling_rate, max_iterations):\n",
    "    \"\"\"\n",
    "    Solve the Traveling Salesman Problem using Simulated Annealing.\n",
    "\n",
    "    Args:\n",
    "    tour (list): A list representing the initial order of cities to visit.\n",
    "    distance_matrix (list): A 2D matrix containing distances between cities.\n",
    "    initial_temperature (float): Initial temperature for the annealing process.\n",
    "    cooling_rate (float): Rate at which the temperature is reduced.\n",
    "    max_iterations (int): Maximum number of iterations.\n",
    "\n",
    "    Returns:\n",
    "    list: Best tour found.\n",
    "    int: Total distance of the best tour.\n",
    "    \"\"\"\n",
    "    current_tour = tour\n",
    "    current_distance = calculate_total_distance(current_tour, distance_matrix)\n",
    "    best_tour = current_tour\n",
    "    best_distance = current_distance\n",
    "\n",
    "    for iteration in range(max_iterations):\n",
    "        # Calculate the current temperature based on the cooling rate and iteration\n",
    "        temperature = initial_temperature / (1 + cooling_rate * iteration)\n",
    "        \n",
    "        new_tour = current_tour[:]\n",
    "        # Randomly swap two cities to create a neighboring tour\n",
    "        i, j = random.sample(range(1, len(new_tour)), 2)  # Exclude the starting city\n",
    "        new_tour[i], new_tour[j] = new_tour[j], new_tour[i]\n",
    "        \n",
    "        new_distance = calculate_total_distance(new_tour, distance_matrix)\n",
    "\n",
    "        delta_distance = new_distance - current_distance\n",
    "\n",
    "        # If the new tour is shorter or accepted with a certain probability, update the current tour\n",
    "        if delta_distance < 0 or random.random() < math.exp(-delta_distance / temperature):\n",
    "            current_tour = new_tour\n",
    "            current_distance = new_distance\n",
    "\n",
    "            if current_distance < best_distance:\n",
    "                best_tour = current_tour\n",
    "                best_distance = current_distance\n",
    "\n",
    "    return best_tour, best_distance"
   ]
  },
  {
   "cell_type": "code",
   "execution_count": 79,
   "metadata": {},
   "outputs": [
    {
     "name": "stdout",
     "output_type": "stream",
     "text": [
      "Best Tour: [0, 3, 1, 2, 5, 4, 0]\n",
      "Best Distance: 116\n"
     ]
    }
   ],
   "source": [
    "if __name__ == \"__main__\":\n",
    "    # Define the distance matrix for your cities\n",
    "    distance_matrix = [\n",
    "        [0, 19, 14, 11, 23, 24],\n",
    "        [24, 0, 12, 30, 30, 19],\n",
    "        [40, 42, 0, 20, 36, 15],\n",
    "        [20, 35, 37, 0, 45, 33],\n",
    "        [15, 26, 18, 25, 0, 30],\n",
    "        [22, 17, 14, 30, 28, 0]\n",
    "    ]\n",
    "\n",
    "    num_cities = len(distance_matrix)\n",
    "    initial_tour = list(range(1, num_cities))  # Start at city 1, exclude the starting city\n",
    "    random.shuffle(initial_tour)\n",
    "    initial_tour.insert(0, 0)  # Insert the starting city at the beginning\n",
    "    initial_tour.append(0)  # Append the starting city to the end\n",
    "\n",
    "    initial_temperature = 1000\n",
    "    cooling_rate = 0.003\n",
    "    max_iterations = 10000\n",
    "\n",
    "    best_tour, best_distance = simulated_annealing(initial_tour, distance_matrix, initial_temperature, cooling_rate, max_iterations)\n",
    "\n",
    "    print(\"Best Tour:\", best_tour)\n",
    "    print(\"Best Distance:\", best_distance)\n"
   ]
  }
 ],
 "metadata": {
  "kernelspec": {
   "display_name": "Python 3",
   "language": "python",
   "name": "python3"
  },
  "language_info": {
   "codemirror_mode": {
    "name": "ipython",
    "version": 3
   },
   "file_extension": ".py",
   "mimetype": "text/x-python",
   "name": "python",
   "nbconvert_exporter": "python",
   "pygments_lexer": "ipython3",
   "version": "3.11.6"
  }
 },
 "nbformat": 4,
 "nbformat_minor": 2
}
