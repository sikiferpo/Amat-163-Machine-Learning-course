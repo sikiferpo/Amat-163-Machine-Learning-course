{
 "cells": [
  {
   "cell_type": "code",
   "execution_count": null,
   "metadata": {},
   "outputs": [],
   "source": [
    "import random"
   ]
  },
  {
   "cell_type": "code",
   "execution_count": null,
   "metadata": {},
   "outputs": [],
   "source": [
    "# Objective function to minimize\n",
    "def objective_function(variables, values):\n",
    "    \"\"\"\n",
    "    Calculate the objective value based on the binary variables and their associated values.\n",
    "\n",
    "    Parameters:\n",
    "    variables (list): A list of binary variables (0 or 1).\n",
    "    values (list): A list of values corresponding to each variable.\n",
    "\n",
    "    Returns:\n",
    "    int: The calculated objective value.\n",
    "    \"\"\"\n",
    "    return sum(x * v for x, v in zip(variables, values))"
   ]
  },
  {
   "cell_type": "code",
   "execution_count": null,
   "metadata": {},
   "outputs": [],
   "source": [
    "# Constraint function\n",
    "def constraint(variables, weights, min_calories):\n",
    "    \"\"\"\n",
    "    Check if the given combination of binary variables satisfies the calorie constraint.\n",
    "\n",
    "    Parameters:\n",
    "    variables (list): A list of binary variables (0 or 1).\n",
    "    weights (list): A list of weights (calories) corresponding to each variable.\n",
    "    min_calories (int): The minimum calorie requirement.\n",
    "\n",
    "    Returns:\n",
    "    bool: True if the constraint is satisfied, False otherwise.\n",
    "    \"\"\"\n",
    "    return sum(x * w for x, w in zip(variables, weights)) >= min_calories"
   ]
  },
  {
   "cell_type": "code",
   "execution_count": null,
   "metadata": {},
   "outputs": [],
   "source": [
    "# Function to initialize a random binary solution\n",
    "def initialize_solution(num_variables):\n",
    "    \"\"\"\n",
    "    Initialize a random binary solution.\n",
    "\n",
    "    Parameters:\n",
    "    num_variables (int): The number of variables.\n",
    "\n",
    "    Returns:\n",
    "    list: A list of random binary values (0 or 1).\n",
    "    \"\"\"\n",
    "    return [random.randint(0, 1) for _ in range(num_variables)]"
   ]
  },
  {
   "cell_type": "code",
   "execution_count": null,
   "metadata": {},
   "outputs": [],
   "source": [
    "\n",
    "# Hill climbing algorithm for binary optimization\n",
    "def hill_climbing_binary_optimization(values, weights, min_calories, max_iterations):\n",
    "    \"\"\"\n",
    "    Solve a binary optimization problem using hill climbing.\n",
    "\n",
    "    Parameters:\n",
    "    values (list): A list of values corresponding to each variable.\n",
    "    weights (list): A list of weights (calories) corresponding to each variable.\n",
    "    min_calories (int): The minimum calorie requirement.\n",
    "    max_iterations (int): The maximum number of iterations for the hill climbing algorithm.\n",
    "\n",
    "    Returns:\n",
    "    tuple: A tuple containing the best solution (binary variables) and the objective value.\n",
    "    \"\"\"\n",
    "    num_variables = len(values)\n",
    "    current_solution = initialize_solution(num_variables)  # Initialize a random binary solution\n",
    "    best_solution = current_solution[:]  # Keep track of the best solution found so far\n",
    "    best_value = objective_function(current_solution, values)  # Evaluate the objective value of the initial solution\n",
    "    \n",
    "    for _ in range(max_iterations):\n",
    "        neighbors = []  # Store valid neighboring solutions\n",
    "        \n",
    "        # Generate neighboring solutions by flipping a single bit in the current solution\n",
    "        for i in range(num_variables):\n",
    "            neighbor = current_solution[:]  # Create a copy of the current solution\n",
    "            neighbor[i] = 1 - neighbor[i]  # Flip the bit at index i\n",
    "            \n",
    "            # Check if the neighbor satisfies the calorie constraint\n",
    "            if constraint(neighbor, weights, min_calories):\n",
    "                neighbors.append(neighbor)  # Add the valid neighbor to the list of neighbors\n",
    "        \n",
    "        if not neighbors:\n",
    "            break  # Exit the loop if there are no valid neighbors\n",
    "        \n",
    "        # Randomly select a neighbor and evaluate its objective value\n",
    "        neighbor = random.choice(neighbors)\n",
    "        neighbor_value = objective_function(neighbor, values)\n",
    "        \n",
    "        # Update the best solution and its objective value if the neighbor has a lower objective value\n",
    "        if neighbor_value < best_value:\n",
    "            best_solution = neighbor[:]\n",
    "            best_value = neighbor_value\n",
    "        \n",
    "        # Move to the neighbor if it has a lower objective value\n",
    "        if neighbor_value < objective_function(current_solution, values):\n",
    "            current_solution = neighbor[:]\n",
    "    \n",
    "    return best_solution, best_value"
   ]
  },
  {
   "cell_type": "code",
   "execution_count": 60,
   "metadata": {},
   "outputs": [
    {
     "name": "stdout",
     "output_type": "stream",
     "text": [
      "Optimal solution: [0, 0, 1, 1, 0, 0, 0, 1]\n",
      "Objective value: 90\n"
     ]
    }
   ],
   "source": [
    "if __name__ == \"__main__\":\n",
    "    values = [89, 90, 30, 50, 90, 79, 90, 10]  # Values associated with each variable\n",
    "    weights = [123, 154, 258, 354, 365, 150, 95, 195]  # Weights (calories) associated with each variable\n",
    "    min_calories = 750  # Minimum calorie requirement\n",
    "    max_iterations = 1000  # Maximum number of iterations\n",
    "    \n",
    "    # Solve the binary optimization problem using hill climbing\n",
    "    best_solution, best_value = hill_climbing_binary_optimization(values, weights, min_calories, max_iterations)\n",
    "\n",
    "    # Print the optimal solution and its objective value\n",
    "    print(\"Optimal solution:\", best_solution)\n",
    "    print(\"Objective value:\", best_value)"
   ]
  }
 ],
 "metadata": {
  "kernelspec": {
   "display_name": "Python 3",
   "language": "python",
   "name": "python3"
  },
  "language_info": {
   "codemirror_mode": {
    "name": "ipython",
    "version": 3
   },
   "file_extension": ".py",
   "mimetype": "text/x-python",
   "name": "python",
   "nbconvert_exporter": "python",
   "pygments_lexer": "ipython3",
   "version": "3.11.6"
  }
 },
 "nbformat": 4,
 "nbformat_minor": 2
}
